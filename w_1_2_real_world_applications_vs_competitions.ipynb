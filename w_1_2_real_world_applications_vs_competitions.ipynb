{
 "cells": [
  {
   "cell_type": "markdown",
   "metadata": {},
   "source": [
    "# Steps in the Data Science Process"
   ]
  },
  {
   "cell_type": "markdown",
   "metadata": {},
   "source": [
    "***1. Business Understanding***<br>\n",
    "**1.1. Target**: What do stakeholders want to do? Classify entring e-mail as spam.<br>\n",
    "**1.2. Understanding the objective**: Why? Increase customer satisfaction by not receiving undesired e-mail, decollapse servers of mailing company.<br>\n",
    "**1.3. Feedback**: Give feedback in how you could tackle the business challenge in a holistic way that could maybe be better than the desire of functionals. How we can address the problem agreed, what are additional things we can deliver that could be of interest. Keep it simple stupid. Listen to what they think.<br> \n",
    "**1.4. Definition**: Agree on best final challenge objective.<br>\n",
    "\n",
    "***2. Problem translation***<br>\n",
    "**Translation**: Convert business problem into data science solution. Choice of target metric. What is the formal definition of spam? What exactly is to be predicted? What models/algorithms are you going to use?<br>\n",
    "\n",
    "***3. Data understanding***<br>\n",
    "What data do we have? What data can be used? What data we have access to? How to obtain historical examples of spam and non spam? What is the meaning of every single variable in the data set (**Super important!!!**)? Business implications of every single variable?\n",
    "\n",
    "***4. Data wrangling***<br>\n",
    "Feasibility:<br>\n",
    "Is the data that we have enough?\n",
    "Data Quality:<br>\n",
    "Is the data that we have good?\n",
    "Pre-Processing:<br>\n",
    "Variables re-coding\n",
    "Correspondence between categorical variables and its values. Do it manually for all variables.\n",
    "Set functional filters.\n",
    "\n",
    "***5. Building models***<br>\n",
    "Which type of model is suitable for this particular task? Which is the best model for this purpose?\n",
    "\n",
    "6. Check effectiveness in the model\n",
    "Is there bias introduced in learnig process?\n",
    "Does model actually block spam?\n",
    "How often does it block non spam e-mails?\n",
    "Is the model overfitted?\n",
    "\n",
    "7. Deploy model\n",
    "\n",
    "8. Monitor the model and retrain it\n",
    "Dashboard"
   ]
  }
 ],
 "metadata": {
  "kernelspec": {
   "display_name": "Python 3 (ipykernel)",
   "language": "python",
   "name": "python3"
  },
  "language_info": {
   "codemirror_mode": {
    "name": "ipython",
    "version": 3
   },
   "file_extension": ".py",
   "mimetype": "text/x-python",
   "name": "python",
   "nbconvert_exporter": "python",
   "pygments_lexer": "ipython3",
   "version": "3.9.4"
  }
 },
 "nbformat": 4,
 "nbformat_minor": 2
}
